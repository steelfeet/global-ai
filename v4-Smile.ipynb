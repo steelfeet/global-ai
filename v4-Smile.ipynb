{
 "cells": [
  {
   "cell_type": "code",
   "execution_count": 31,
   "metadata": {},
   "outputs": [],
   "source": [
    "\n",
    "from pathlib import Path\n",
    "import pandas as pd\n",
    "import matplotlib.pyplot as plt\n",
    "import numpy as np\n",
    "import csv\n",
    "import math\n",
    "import tqdm\n",
    "from typing import Optional\n",
    "\n",
    "from catboost import CatBoostRegressor\n",
    "from sklearn.metrics import mean_squared_log_error\n",
    "from sklearn.metrics import f1_score\n",
    "\n",
    "import torch\n",
    "import torch.nn as nn\n",
    "import torchvision\n",
    "import torchvision.transforms as transforms\n",
    "from torch.utils.data import Dataset, DataLoader, random_split\n"
   ]
  },
  {
   "cell_type": "code",
   "execution_count": 32,
   "metadata": {},
   "outputs": [],
   "source": [
    "DATA_DIR = Path(\"Z:\\\\Dropbox\\\\www\\\\steelfeet.ru\\\\_hack\\\\2021-22\\global-ai\")\n",
    "#DATA_DIR = pathlib.Path(\"C:\\\\0\")\n",
    "DATA_FILE = \"train.csv\"\n",
    "TEST_FILE = \"test.csv\"\n",
    "#group_by столбцы\n"
   ]
  },
  {
   "cell_type": "markdown",
   "metadata": {},
   "source": [
    "# Загрузка данных"
   ]
  },
  {
   "cell_type": "code",
   "execution_count": 33,
   "metadata": {},
   "outputs": [
    {
     "data": {
      "text/plain": [
       "0                                 COc1ccc2[nH]cc(CCN)c2c1\n",
       "1                         CCCN1CCC[C@H](c2cccc(O)c2)C1.Cl\n",
       "2       O=C(NO)c1cnc(N2CCN(S(=O)(=O)c3ccc4ccccc4c3)CC2...\n",
       "3       Nc1cccc(CNC(=O)c2ccc(Oc3ccc(OCc4cccc(F)c4)cc3)...\n",
       "4                 Fc1ccccc1CNCc1ccc(-c2ccnc3[nH]ccc23)cc1\n",
       "                              ...                        \n",
       "5552    O=C(Oc1ccc([N+](=O)[O-])cc1)N1CCC(C(O)(c2ccc3c...\n",
       "5553                     Nc1nonc1/C(=N/O)Nc1ccc(F)c(Br)c1\n",
       "5554                                      Oc1cccc2cccnc12\n",
       "5555    OC(c1ccc(-c2ccc(CN3CCN(Cc4ccncc4)CC3)cc2)c(F)c...\n",
       "5556                      CCCCNc1ccc(C(=O)OCCN(C)C)cc1.Cl\n",
       "Name: Smiles, Length: 5557, dtype: object"
      ]
     },
     "execution_count": 33,
     "metadata": {},
     "output_type": "execute_result"
    }
   ],
   "source": [
    "df = pd.read_csv(DATA_DIR.joinpath(DATA_FILE), usecols=[\"Smiles\", \"Active\"])\n",
    "df[\"Smiles\"]\n",
    "\n"
   ]
  },
  {
   "cell_type": "markdown",
   "metadata": {},
   "source": [
    "# Класс для предобработки датасета"
   ]
  },
  {
   "cell_type": "code",
   "execution_count": 34,
   "metadata": {},
   "outputs": [],
   "source": [
    "from rdkit import Chem\n",
    "from multiprocessing import Pool\n",
    "\n",
    "class StandardizeDatasets:\n",
    "    @staticmethod\n",
    "    def standardize_smiles(smi: str) -> Optional[str]:\n",
    "        mol = Chem.MolFromSmiles(smi)\n",
    "        mol = Chem.MolToSmiles(mol)\n",
    "        return mol\n",
    "        \"crete typical standardization of one smiles\"\n",
    "\n",
    "    def standardize(self, df, out_path: Path):\n",
    "        with Pool(10) as pool:\n",
    "          df['standardize_smiles'] = list(\n",
    "                      tqdm(pool.imap(self.standardize_smiles, df.smiles), total=df.shape[0])\n",
    "                  )\n",
    "        df.to_csv(out_path, index=False)\n",
    "        return df\n",
    "        \"apply standardization to all smiles\"\n",
    "\n",
    "class StandardizeTautomers(StandardizeDatasets):\n",
    "    @staticmethod\n",
    "    def standardize_smiles(smi: str) -> Optional[str]:\n",
    "        Canonicalizer = Chem.TautomerCanonicalizer()\n",
    "        mol = Chem.MolFromSmiles(smi)\n",
    "        standorized = Canonicalizer.canonicalize(mol)\n",
    "        return Chem.MolToSmiles(standorized)"
   ]
  },
  {
   "cell_type": "code",
   "execution_count": 35,
   "metadata": {},
   "outputs": [],
   "source": [
    "def get_atom_features(mol):\n",
    "   atomic_number = []\n",
    "   num_hs = []\n",
    "   degrees = []\n",
    "   charges = []\n",
    "   tags = []\n",
    "   hybridizations = []\n",
    "   aromatic = []\n",
    "   mass = []\n",
    " \n",
    "   for atom in mol.GetAtoms():\n",
    "       atomic_number.append(atom.GetAtomicNum()) # atomic number\n",
    "       num_hs.append(atom.GetTotalNumHs(includeNeighbors=True)) # number of H in atom\n",
    "       degrees.append(atom.GetTotalDegree()) # total Degree of atom\n",
    "       charges.append(atom.GetFormalCharge()) # Charge of atom\n",
    "       tags.append(int(atom.GetChiralTag())) # chiral tag\n",
    "       hybridizations.append(int(atom.GetHybridization())) # hybridization of atom\n",
    "       if atom.GetIsAromatic(): # Is aromatic of not\n",
    "           aromatic.append(1)\n",
    "       else:\n",
    "           aromatic.append(0)\n",
    "       mass.append(atom.GetMass() * 0.01) # mass\n",
    "              \n",
    "   return torch.tensor([atomic_number, num_hs, degrees, charges, tags, hybridizations, aromatic, mass]).t()\n",
    " \n",
    "def get_edge_index(mol):\n",
    "   row, col = [], []\n",
    "  \n",
    "   for bond in mol.GetBonds():\n",
    "       start, end = bond.GetBeginAtomIdx(), bond.GetEndAtomIdx()\n",
    "       row += [start, end]\n",
    "       col += [end, start]\n",
    "      \n",
    "   return torch.tensor([row, col], dtype=torch.long)"
   ]
  },
  {
   "cell_type": "code",
   "execution_count": 36,
   "metadata": {},
   "outputs": [],
   "source": [
    "from torch_geometric.nn import MessagePassing\n",
    "from torch_geometric.utils import add_self_loops, degree\n",
    "\n",
    "class GCNConv(MessagePassing):\n",
    "   def __init__(self, in_channels, out_channels):\n",
    "       super(GCNConv, self).__init__(aggr='add')  # \"Add\" aggregation (Step 5).\n",
    "       self.lin = torch.nn.Linear(in_channels, out_channels)\n",
    " \n",
    "   def forward(self, x, edge_index):\n",
    "       # x has shape [N, in_channels]\n",
    "       # edge_index has shape [2, E]\n",
    " \n",
    "       # Step 1: Add self-loops to the adjacency matrix.\n",
    "       edge_index, _ = add_self_loops(edge_index, num_nodes=x.size(0))\n",
    " \n",
    "       # Step 2: Linearly transform node feature matrix.\n",
    "       x = self.lin(x)\n",
    " \n",
    "       # Step 3: Compute normalization.\n",
    "       row, col = edge_index\n",
    "       deg = degree(col, x.size(0), dtype=x.dtype)\n",
    "       deg_inv_sqrt = deg.pow(-0.5)\n",
    "       norm = deg_inv_sqrt[row] * deg_inv_sqrt[col]\n",
    " \n",
    "       # Step 4-5: Start propagating messages.\n",
    "       return self.propagate(edge_index, x=x, norm=norm)\n",
    " \n",
    "   def message(self, x_j, norm):\n",
    "       # x_j has shape [E, out_channels]\n",
    " \n",
    "       # Step 4: Normalize node features.\n",
    "       return norm.view(-1, 1) * x_j"
   ]
  },
  {
   "cell_type": "code",
   "execution_count": 37,
   "metadata": {},
   "outputs": [],
   "source": [
    "class NeuralFP(nn.Module):\n",
    "   def __init__(self, atom_features=52, fp_size=50):\n",
    "       super(NeuralFP, self).__init__()\n",
    "      \n",
    "       self.atom_features = atom_features\n",
    "       self.fp_size = fp_size\n",
    " \n",
    "      \n",
    "       self.loop1 =  GCNConv(atom_features, fp_size)\n",
    " \n",
    "       self.loops = nn.ModuleList([self.loop1])\n",
    "      \n",
    "   def forward(self, data):\n",
    "       fingerprint = torch.zeros((data.batch.shape[0], self.fp_size), dtype=torch.float).to(device)\n",
    "      \n",
    "       out = data.x\n",
    "       for idx, loop in enumerate(self.loops):\n",
    "    \n",
    "           updated_fingerprint = loop(out, data.edge_index)\n",
    "           fingerprint += updated_fingerprint\n",
    " \n",
    "       return scatter_add(fingerprint, data.batch, dim=0)"
   ]
  },
  {
   "cell_type": "code",
   "execution_count": 38,
   "metadata": {},
   "outputs": [],
   "source": [
    "import torch.nn.functional as F\n",
    " \n",
    "class MLP_Regressor(nn.Module):\n",
    "   def __init__(self, neural_fp, atom_features=2, fp_size=50, hidden_size=100):\n",
    "       super(MLP_Regressor, self).__init__()\n",
    " \n",
    " \n",
    "       self.neural_fp = neural_fp\n",
    "       self.lin1 =  nn.Linear(fp_size , hidden_size)\n",
    "       self.leakyrelu = nn.LeakyReLU(0.2)\n",
    "       self.lin2 =  nn.Linear(hidden_size, 1)\n",
    "       self.dropout =  nn.Dropout(0.2)\n",
    "  \n",
    "   def forward(self, batch):\n",
    " \n",
    "       fp = self.neural_fp(batch)\n",
    "       hidden =  self.dropout(self.lin1(fp))\n",
    "       out =  self.leakyrelu(self.lin2(hidden))\n",
    "       return out"
   ]
  },
  {
   "cell_type": "code",
   "execution_count": 42,
   "metadata": {},
   "outputs": [
    {
     "data": {
      "image/png": "[encoded data removed]",
      "text/plain": [
       "<PIL.PngImagePlugin.PngImageFile image mode=RGB size=300x300 at 0x257DFB68AC0>"
      ]
     },
     "execution_count": 42,
     "metadata": {},
     "output_type": "execute_result"
    }
   ],
   "source": [
    "import rdkit.Chem.Draw\n",
    "mol = Chem.MolFromSmiles('COc1ccc2[nH]cc(CCN)c2c1')\n",
    "rdkit.Chem.Draw.MolToImage(mol)\n",
    "\n"
   ]
  },
  {
   "cell_type": "code",
   "execution_count": null,
   "metadata": {},
   "outputs": [],
   "source": [
    "\n",
    "\n"
   ]
  },
  {
   "cell_type": "code",
   "execution_count": null,
   "metadata": {},
   "outputs": [],
   "source": [
    "\n"
   ]
  },
  {
   "cell_type": "code",
   "execution_count": null,
   "metadata": {},
   "outputs": [],
   "source": []
  },
  {
   "cell_type": "code",
   "execution_count": null,
   "metadata": {},
   "outputs": [],
   "source": []
  }
 ],
 "metadata": {
  "kernelspec": {
   "display_name": "Python 3",
   "language": "python",
   "name": "python3"
  },
  "language_info": {
   "codemirror_mode": {
    "name": "ipython",
    "version": 3
   },
   "file_extension": ".py",
   "mimetype": "text/x-python",
   "name": "python",
   "nbconvert_exporter": "python",
   "pygments_lexer": "ipython3",
   "version": "3.9.6"
  }
 },
 "nbformat": 4,
 "nbformat_minor": 4
}
