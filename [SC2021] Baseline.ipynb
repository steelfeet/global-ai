{
 "cells": [
  {
   "cell_type": "code",
   "execution_count": 141,
   "metadata": {},
   "outputs": [],
   "source": [
    "import pathlib\n",
    "import pandas as pd\n",
    "import matplotlib.pyplot as plt\n",
    "import numpy as np\n",
    "import csv\n",
    "import math\n",
    "\n",
    "from catboost import CatBoostRegressor\n",
    "from sklearn.metrics import mean_squared_log_error\n",
    "from sklearn.metrics import f1_score\n"
   ]
  },
  {
   "cell_type": "code",
   "execution_count": 73,
   "metadata": {},
   "outputs": [],
   "source": [
    "DATA_DIR = pathlib.Path(\"Z:\\\\Dropbox\\\\www\\\\steelfeet.ru\\\\_hack\\\\2021-22\\global-ai\")\n",
    "#DATA_DIR = pathlib.Path(\"C:\\\\0\")\n",
    "DATA_FILE = \"train.csv\"\n",
    "TEST_FILE = \"test.csv\"\n",
    "#group_by столбцы\n",
    "AGG_COLS = [\"material_code\", \"company_code\", \"country\", \"region\", \"manager_code\"]\n"
   ]
  },
  {
   "cell_type": "markdown",
   "metadata": {},
   "source": [
    "# Загрузка данных"
   ]
  },
  {
   "cell_type": "code",
   "execution_count": 32,
   "metadata": {},
   "outputs": [
    {
     "name": "stdout",
     "output_type": "stream",
     "text": [
      "5557\n"
     ]
    }
   ],
   "source": [
    "data =[]\n",
    "max_string = 0;\n",
    "with open(DATA_DIR.joinpath(DATA_FILE), 'r') as file_name:\n",
    "    reader = csv.DictReader(file_name)\n",
    "    for row in reader:\n",
    "        data.append((row[\"Smiles\"], row[\"Active\"]))\n",
    "        if (len(row[\"Smiles\"]) > max_string):\n",
    "            max_string = len(row[\"Smiles\"])\n",
    "\n",
    "\n",
    "\n",
    "\n",
    "print(len(data))"
   ]
  },
  {
   "cell_type": "markdown",
   "metadata": {},
   "source": [
    "# Считаем статистику символов"
   ]
  },
  {
   "cell_type": "code",
   "execution_count": 125,
   "metadata": {},
   "outputs": [
    {
     "name": "stdout",
     "output_type": "stream",
     "text": [
      "{'(O': 0.2603728202044498, 'H': 0.417910447761194, 'l': 0.96875, '2s': 0.6470588235294118, 's': 0.20689655172413793, '[N': 0.28205128205128205, '][': 0.23076923076923078, 'S.': 0.6666666666666666, 'cs': 0.25925925925925924, '5': 0.5555555555555556, ']3': 0.3684210526315789, 'S=': 0.2222222222222222, 'S)': 0.21710526315789475, ')S': 0.20754716981132076, 'SS': 0.2037037037037037, 'rO': 0.5, 'S3': 0.25, '-1': 0.25, '[S': 0.3333333333333333, 'S+': 0.23255813953488372, 'S@': 0.42857142857142855, 'N.': 0.2727272727272727, '.S': 1.0, 'C5': 1.0, 'o+': 0.3333333333333333, '3.': 0.4, 'IO': 0.3333333333333333, '/n': 1.0, '7C': 0.25, 'c8': 1.0, '8': 0.3333333333333333, '8c': 0.5, '86': 0.5, '7)': 0.25, '5N': 0.5, '3I': 1.0, 'Ag': 1.0, 'g': 1.0, 'g+': 1.0, '[s': 1.0, 'se': 0.5, 'e': 0.3333333333333333, 'e]': 0.3333333333333333, 'S-': 1.0, 'o[': 1.0}\n",
      "45\n"
     ]
    }
   ],
   "source": [
    "summ_data = {}\n",
    "freq_data = {}\n",
    "for row in data[:5000]:\n",
    "    smile, active = row\n",
    "    n=0\n",
    "    for simbol in smile:\n",
    "        s1 = str(smile[n])\n",
    "        try:\n",
    "            s12 = str(smile[n]+smile[n+1])\n",
    "        except:\n",
    "            s12 = \"\"\n",
    "        try:\n",
    "            s21 = str(smile[n-1]+smile[n])\n",
    "        except:\n",
    "            s21 = \"\"\n",
    "\n",
    "\n",
    "\n",
    "\n",
    "        if ((active==\"True\") and (len(s12) > 0) and (len(s21) > 0)):\n",
    "            try:\n",
    "                summ_data[s1] = summ_data[s1] + 1\n",
    "                summ_data[s12] = summ_data[s12] + 1\n",
    "                summ_data[s21] = summ_data[s21] + 1\n",
    "            except:\n",
    "                summ_data[s1] = 1\n",
    "                summ_data[s12] = 1\n",
    "                summ_data[s21] = 1\n",
    "\n",
    "        try:\n",
    "            freq_data[s1] = freq_data[s1] + 1\n",
    "            freq_data[s12] = freq_data[s12] + 1\n",
    "            freq_data[s21] = freq_data[s21] + 1\n",
    "        except:\n",
    "            freq_data[s1] = 1\n",
    "            freq_data[s12] = 1\n",
    "            freq_data[s21] = 1\n",
    "\n",
    "        n+=1\n",
    "\n",
    "stat_data = {}\n",
    "clear_stat_data = {}\n",
    "\n",
    "for simbol in summ_data:\n",
    "    stat_data[simbol] = summ_data[simbol] / freq_data[simbol]\n",
    "    if (stat_data[simbol] > 0.2):\n",
    "        clear_stat_data[simbol] = stat_data[simbol]\n",
    "    #print(simbol, summ_data[simbol], freq_data[simbol], stat_data[simbol])\n",
    "\n",
    "print(clear_stat_data)\n",
    "print(len(clear_stat_data))"
   ]
  },
  {
   "cell_type": "code",
   "execution_count": 145,
   "metadata": {},
   "outputs": [
    {
     "name": "stdout",
     "output_type": "stream",
     "text": [
      "0.038127498670657976\n",
      "0.5\n",
      "4.4989364837926775e-05\n",
      "0.13370165745856352\n",
      "1.0\n",
      "0.0005670624482446602\n",
      "0.11026241642353601\n",
      "0.417910447761194\n",
      "0.022441651705565512\n",
      "1.0\n",
      "0.00023580871778717134\n",
      "1.0611864002395638e-08\n",
      "0.5\n",
      "1.0\n",
      "0.20689655172413793\n",
      "0.417910447761194\n",
      "0.5\n",
      "0.5\n",
      "-------------------- STAT ------------------\n",
      "0.05156537753222837\n"
     ]
    }
   ],
   "source": [
    "y_true = []\n",
    "y_pred = []\n",
    "\n",
    "for row in data[5001:]:\n",
    "    smile, active = row\n",
    "    #print(row)\n",
    "    bayes = 0.5\n",
    "    n = 0\n",
    "    for simbol in smile:\n",
    "        s1 = str(smile[n])\n",
    "        try:\n",
    "            s12 = str(smile[n]+smile[n+1])\n",
    "        except:\n",
    "            s12 = \"\"\n",
    "        try:\n",
    "            s21 = str(smile[n-1]+smile[n])\n",
    "        except:\n",
    "            s21 = \"\"\n",
    "\n",
    "        #$dish_weight = $dish_weight * $this_weight / ($dish_weight*$this_weight + (1-$dish_weight)*(1-$this_weight));\n",
    "        try:\n",
    "            bayes = bayes*clear_stat_data[s1] / (bayes*clear_stat_data[s1] + (1-bayes)*(1-clear_stat_data[s1]))\n",
    "        except:\n",
    "            pass\n",
    "        #print(s1, stat_data[s1], bayes)\n",
    "\n",
    "        try:\n",
    "            bayes = bayes*clear_stat_data[s12] / (bayes*clear_stat_data[s12] + (1-bayes)*(1-clear_stat_data[s12]))\n",
    "            #print(s12, stat_data[s12], bayes)\n",
    "        except:\n",
    "            pass\n",
    "\n",
    "        try:\n",
    "            bayes = bayes*clear_stat_data[s21] / (bayes*clear_stat_data[s21] + (1-bayes)*(1-clear_stat_data[s21]))\n",
    "        except:\n",
    "            pass\n",
    "\n",
    "        n+=1\n",
    "        print           \n",
    "    \n",
    "    if(active==\"True\"):\n",
    "        y_true.append(1)\n",
    "        print(bayes) #1.00e-50\n",
    "    else:\n",
    "        y_true.append(0)\n",
    "    \n",
    "    \n",
    "    if (bayes>1.00e-3):\n",
    "        y_pred.append(1)\n",
    "    else:\n",
    "        y_pred.append(0)\n",
    "\n",
    "print(\"-------------------- STAT ------------------\")\n",
    "print(f1_score(y_true, y_pred))\n",
    "\n"
   ]
  },
  {
   "cell_type": "code",
   "execution_count": 75,
   "metadata": {},
   "outputs": [
    {
     "name": "stdout",
     "output_type": "stream",
     "text": [
      "1614\n"
     ]
    }
   ],
   "source": [
    "test =[]\n",
    "with open(DATA_DIR.joinpath(TEST_FILE), 'r') as file_name:\n",
    "    reader = csv.DictReader(file_name)\n",
    "    for row in reader:\n",
    "        test.append((row[\"Smiles\"]))\n",
    "\n",
    "\n",
    "print(len(test))"
   ]
  },
  {
   "cell_type": "code",
   "execution_count": 14,
   "metadata": {},
   "outputs": [],
   "source": [
    "CAT_COLS = [\"material_code\", \"company_code\", \"country\", \"region\", \"manager_code\", \"month\"]\n",
    "FTS_COLS = [\"material_code\", \"company_code\", \"country\", \"region\", \"manager_code\", \"month\", \"vol_tm6\", \"vol_tm5\", \"vol_tm4\", \"vol_tm3\", \"vol_tm2\", \"vol_tm1\",\"last_year_avg\", \"last_year_min\", \"last_year_max\", \"test_target\"]\n",
    "TARGET = \"target\""
   ]
  },
  {
   "cell_type": "code",
   "execution_count": 31,
   "metadata": {},
   "outputs": [
    {
     "data": {
      "application/vnd.jupyter.widget-view+json": {
       "model_id": "dd00f2c8a36d48bc86022b537293cd8a",
       "version_major": 2,
       "version_minor": 0
      },
      "text/plain": [
       "MetricVisualizer(layout=Layout(align_self='stretch', height='500px'))"
      ]
     },
     "metadata": {},
     "output_type": "display_data"
    },
    {
     "name": "stdout",
     "output_type": "stream",
     "text": [
      "Learning rate set to 0.303515\n",
      "0:\tlearn: 235.8068500\ttest: 245.0794042\tbest: 245.0794042 (0)\ttotal: 10.7ms\tremaining: 1.05s\n",
      "10:\tlearn: 35.2997723\ttest: 40.5404187\tbest: 40.5404187 (10)\ttotal: 94.9ms\tremaining: 768ms\n",
      "20:\tlearn: 23.6761191\ttest: 34.4347514\tbest: 34.4347514 (20)\ttotal: 171ms\tremaining: 641ms\n",
      "30:\tlearn: 18.7958621\ttest: 31.2704405\tbest: 31.1514443 (29)\ttotal: 247ms\tremaining: 550ms\n",
      "40:\tlearn: 15.7582627\ttest: 29.2866352\tbest: 29.0267818 (39)\ttotal: 325ms\tremaining: 467ms\n",
      "50:\tlearn: 14.1432641\ttest: 28.5346731\tbest: 28.5346731 (50)\ttotal: 394ms\tremaining: 379ms\n",
      "60:\tlearn: 12.1707141\ttest: 27.1328503\tbest: 27.1328503 (60)\ttotal: 464ms\tremaining: 297ms\n",
      "70:\tlearn: 11.1094871\ttest: 27.2937926\tbest: 27.1328503 (60)\ttotal: 542ms\tremaining: 221ms\n",
      "80:\tlearn: 10.0454705\ttest: 27.2059462\tbest: 27.1328503 (60)\ttotal: 613ms\tremaining: 144ms\n",
      "90:\tlearn: 8.9381386\ttest: 26.9386519\tbest: 26.9386519 (90)\ttotal: 686ms\tremaining: 67.9ms\n",
      "99:\tlearn: 8.2488920\ttest: 26.9362442\tbest: 26.7321726 (95)\ttotal: 755ms\tremaining: 0us\n",
      "\n",
      "bestTest = 26.73217256\n",
      "bestIteration = 95\n",
      "\n",
      "Shrink model to first 96 iterations.\n"
     ]
    },
    {
     "data": {
      "text/plain": [
       "<catboost.core.CatBoostRegressor at 0x2ae423f1430>"
      ]
     },
     "execution_count": 31,
     "metadata": {},
     "output_type": "execute_result"
    }
   ],
   "source": [
    "model = CatBoostRegressor(iterations=100,\n",
    "                          early_stopping_rounds=30,\n",
    "                          depth=4,\n",
    "                          cat_features=CAT_COLS,\n",
    "                          random_state=RS,\n",
    "                          verbose=10)\n",
    "model.fit(full_features[\"tr\"][FTS_COLS], full_features[\"tr\"][TARGET],\n",
    "          eval_set=(full_features[\"val\"][FTS_COLS], full_features[\"val\"][TARGET]),plot=True)"
   ]
  },
  {
   "cell_type": "code",
   "execution_count": 32,
   "metadata": {},
   "outputs": [
    {
     "data": {
      "text/plain": [
       "test_target      92.941078\n",
       "last_year_avg     2.236702\n",
       "vol_tm3           2.184160\n",
       "last_year_max     1.715369\n",
       "vol_tm6           0.324613\n",
       "vol_tm2           0.315761\n",
       "vol_tm1           0.110409\n",
       "vol_tm4           0.092757\n",
       "vol_tm5           0.031920\n",
       "last_year_min     0.021033\n",
       "region            0.009288\n",
       "month             0.007578\n",
       "material_code     0.005026\n",
       "manager_code      0.004305\n",
       "company_code      0.000000\n",
       "country           0.000000\n",
       "dtype: float64"
      ]
     },
     "execution_count": 32,
     "metadata": {},
     "output_type": "execute_result"
    }
   ],
   "source": [
    "pd.Series(model.feature_importances_, index=FTS_COLS).sort_values(ascending=False)"
   ]
  },
  {
   "cell_type": "code",
   "execution_count": null,
   "metadata": {},
   "outputs": [],
   "source": []
  }
 ],
 "metadata": {
  "kernelspec": {
   "display_name": "Python 3",
   "language": "python",
   "name": "python3"
  },
  "language_info": {
   "codemirror_mode": {
    "name": "ipython",
    "version": 3
   },
   "file_extension": ".py",
   "mimetype": "text/x-python",
   "name": "python",
   "nbconvert_exporter": "python",
   "pygments_lexer": "ipython3",
   "version": "3.9.6"
  }
 },
 "nbformat": 4,
 "nbformat_minor": 4
}
